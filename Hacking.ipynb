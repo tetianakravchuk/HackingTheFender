{
 "cells": [
  {
   "cell_type": "markdown",
   "metadata": {},
   "source": [
    "Hacking The Fender\n",
    "The Fender, a notorious computer hacker and general villain of the people, has compromised several top-secret passwords including your own. Your mission, should you choose to accept it, is threefold. You must acquire access to The Fender‘s systems, you must update his \"passwords.csv\" file to scramble the secret data. The last thing you need to do is add the signature of Slash Null, a different hacker whose nefarious deeds could be very conveniently halted by The Fender if they viewed Slash Null as a threat.\n"
   ]
  },
  {
   "cell_type": "code",
   "execution_count": 12,
   "metadata": {},
   "outputs": [],
   "source": [
    "import csv\n",
    "compromised_users = []\n",
    "\n",
    "with open('/Users/tetianakravchuk/Desktop/CodeAcademyProjects/DataScience/HackingTheFender/HackingTheFender/passwords.csv', encoding='latin1') as password_file:\n",
    "    password_csv = csv.DictReader(password_file)\n",
    "    for password_row in password_csv:\n",
    "        compromised_users.append(password_row)\n",
    "\n",
    "with open('compromised_users.txt', 'w') as compromised_user_file:\n",
    "    for user in compromised_users:\n",
    "        if 'Username' in user:\n",
    "            compromised_user_file.write(user['Username'] + '\\n')\n",
    "\n",
    "import json \n",
    "\n",
    "with open('boss_message.json', 'w') as boss_message:\n",
    "     boss_message_dict = {\n",
    "        \"recipient\": \"The Boss\",\n",
    "        \"message\": \"Mission Success\"\n",
    "    }\n",
    "     json.dump(boss_message_dict, boss_message)\n",
    "\n",
    "with open('new_passwords.csv', 'w') as new_passwords_obj:\n",
    "    slash_null_sig = r\"\"\"\n",
    "     _  _     ___   __  ____             \n",
    "    / )( \\   / __) /  \\(_  _)            \n",
    "    ) \\/ (  ( (_ \\(  O ) )(              \n",
    "    \\____/   \\___/ \\__/ (__)             \n",
    "     _  _   __    ___  __ _  ____  ____  \n",
    "    / )( \\ / _\\  / __)(  / )(  __)(    \\ \n",
    "    ) __ (/    \\( (__  )  (  ) _)  ) D ( \n",
    "    \\_)(_/\\_/\\_/ \\___)(__\\_)(____)(____/ \n",
    "            ____  __     __   ____  _  _ \n",
    "     ___   / ___)(  )   / _\\ / ___)/ )( \\\n",
    "    (___)  \\___ \\/ (_/\\/    \\\\___ \\) __ (\n",
    "           (____/\\____/\\_/\\_/(____/\\_)(_/\n",
    "     __ _  _  _  __    __                \n",
    "    (  ( \\/ )( \\(  )  (  )               \n",
    "    /    /) \\/ (/ (_/\\/ (_/\\             \n",
    "    \\_)__)\\____/\\____/\\____/\n",
    "    \"\"\"\n",
    "    new_passwords_obj.write(slash_null_sig)\n",
    "\n"
   ]
  },
  {
   "cell_type": "markdown",
   "metadata": {},
   "source": [
    "\n",
    "\t1.\tIdentify compromised usernames from a CSV file.\n",
    "\t2.\tLog compromised usernames to a text file.\n",
    "\t3.\tSend a JSON message to “The Boss” indicating success.\n",
    "\t4.\tLeave a visual ASCII signature in a separate file.\n"
   ]
  }
 ],
 "metadata": {
  "kernelspec": {
   "display_name": "Python 3",
   "language": "python",
   "name": "python3"
  },
  "language_info": {
   "codemirror_mode": {
    "name": "ipython",
    "version": 3
   },
   "file_extension": ".py",
   "mimetype": "text/x-python",
   "name": "python",
   "nbconvert_exporter": "python",
   "pygments_lexer": "ipython3",
   "version": "3.12.4"
  }
 },
 "nbformat": 4,
 "nbformat_minor": 2
}
